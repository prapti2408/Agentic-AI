{
  "nbformat": 4,
  "nbformat_minor": 0,
  "metadata": {
    "colab": {
      "provenance": []
    },
    "kernelspec": {
      "name": "python3",
      "display_name": "Python 3"
    },
    "language_info": {
      "name": "python"
    }
  },
  "cells": [
    {
      "cell_type": "code",
      "execution_count": null,
      "metadata": {
        "colab": {
          "base_uri": "https://localhost:8080/"
        },
        "id": "5XCNIgCRMemZ",
        "outputId": "e1253b70-8538-4b36-dc22-a9575dd37c15"
      },
      "outputs": [
        {
          "output_type": "stream",
          "name": "stdout",
          "text": [
            "Requirement already satisfied: langgraph in /usr/local/lib/python3.11/dist-packages (0.2.70)\n",
            "Requirement already satisfied: langchain_community in /usr/local/lib/python3.11/dist-packages (0.3.17)\n",
            "Requirement already satisfied: langchain in /usr/local/lib/python3.11/dist-packages (0.3.18)\n",
            "Requirement already satisfied: langchain_groq in /usr/local/lib/python3.11/dist-packages (0.2.4)\n",
            "Requirement already satisfied: langchain-core!=0.3.0,!=0.3.1,!=0.3.10,!=0.3.11,!=0.3.12,!=0.3.13,!=0.3.14,!=0.3.15,!=0.3.16,!=0.3.17,!=0.3.18,!=0.3.19,!=0.3.2,!=0.3.20,!=0.3.21,!=0.3.22,!=0.3.3,!=0.3.4,!=0.3.5,!=0.3.6,!=0.3.7,!=0.3.8,!=0.3.9,<0.4.0,>=0.2.43 in /usr/local/lib/python3.11/dist-packages (from langgraph) (0.3.34)\n",
            "Requirement already satisfied: langgraph-checkpoint<3.0.0,>=2.0.10 in /usr/local/lib/python3.11/dist-packages (from langgraph) (2.0.12)\n",
            "Requirement already satisfied: langgraph-sdk<0.2.0,>=0.1.42 in /usr/local/lib/python3.11/dist-packages (from langgraph) (0.1.51)\n",
            "Requirement already satisfied: SQLAlchemy<3,>=1.4 in /usr/local/lib/python3.11/dist-packages (from langchain_community) (2.0.37)\n",
            "Requirement already satisfied: requests<3,>=2 in /usr/local/lib/python3.11/dist-packages (from langchain_community) (2.32.3)\n",
            "Requirement already satisfied: PyYAML>=5.3 in /usr/local/lib/python3.11/dist-packages (from langchain_community) (6.0.2)\n",
            "Requirement already satisfied: aiohttp<4.0.0,>=3.8.3 in /usr/local/lib/python3.11/dist-packages (from langchain_community) (3.11.11)\n",
            "Requirement already satisfied: tenacity!=8.4.0,<10,>=8.1.0 in /usr/local/lib/python3.11/dist-packages (from langchain_community) (9.0.0)\n",
            "Requirement already satisfied: dataclasses-json<0.7,>=0.5.7 in /usr/local/lib/python3.11/dist-packages (from langchain_community) (0.6.7)\n",
            "Requirement already satisfied: pydantic-settings<3.0.0,>=2.4.0 in /usr/local/lib/python3.11/dist-packages (from langchain_community) (2.7.1)\n",
            "Requirement already satisfied: langsmith<0.4,>=0.1.125 in /usr/local/lib/python3.11/dist-packages (from langchain_community) (0.3.5)\n",
            "Requirement already satisfied: httpx-sse<1.0.0,>=0.4.0 in /usr/local/lib/python3.11/dist-packages (from langchain_community) (0.4.0)\n",
            "Requirement already satisfied: numpy<2,>=1.26.4 in /usr/local/lib/python3.11/dist-packages (from langchain_community) (1.26.4)\n",
            "Requirement already satisfied: langchain-text-splitters<1.0.0,>=0.3.6 in /usr/local/lib/python3.11/dist-packages (from langchain) (0.3.6)\n",
            "Requirement already satisfied: pydantic<3.0.0,>=2.7.4 in /usr/local/lib/python3.11/dist-packages (from langchain) (2.10.6)\n",
            "Requirement already satisfied: groq<1,>=0.4.1 in /usr/local/lib/python3.11/dist-packages (from langchain_groq) (0.18.0)\n",
            "Requirement already satisfied: aiohappyeyeballs>=2.3.0 in /usr/local/lib/python3.11/dist-packages (from aiohttp<4.0.0,>=3.8.3->langchain_community) (2.4.4)\n",
            "Requirement already satisfied: aiosignal>=1.1.2 in /usr/local/lib/python3.11/dist-packages (from aiohttp<4.0.0,>=3.8.3->langchain_community) (1.3.2)\n",
            "Requirement already satisfied: attrs>=17.3.0 in /usr/local/lib/python3.11/dist-packages (from aiohttp<4.0.0,>=3.8.3->langchain_community) (25.1.0)\n",
            "Requirement already satisfied: frozenlist>=1.1.1 in /usr/local/lib/python3.11/dist-packages (from aiohttp<4.0.0,>=3.8.3->langchain_community) (1.5.0)\n",
            "Requirement already satisfied: multidict<7.0,>=4.5 in /usr/local/lib/python3.11/dist-packages (from aiohttp<4.0.0,>=3.8.3->langchain_community) (6.1.0)\n",
            "Requirement already satisfied: propcache>=0.2.0 in /usr/local/lib/python3.11/dist-packages (from aiohttp<4.0.0,>=3.8.3->langchain_community) (0.2.1)\n",
            "Requirement already satisfied: yarl<2.0,>=1.17.0 in /usr/local/lib/python3.11/dist-packages (from aiohttp<4.0.0,>=3.8.3->langchain_community) (1.18.3)\n",
            "Requirement already satisfied: marshmallow<4.0.0,>=3.18.0 in /usr/local/lib/python3.11/dist-packages (from dataclasses-json<0.7,>=0.5.7->langchain_community) (3.26.1)\n",
            "Requirement already satisfied: typing-inspect<1,>=0.4.0 in /usr/local/lib/python3.11/dist-packages (from dataclasses-json<0.7,>=0.5.7->langchain_community) (0.9.0)\n",
            "Requirement already satisfied: anyio<5,>=3.5.0 in /usr/local/lib/python3.11/dist-packages (from groq<1,>=0.4.1->langchain_groq) (3.7.1)\n",
            "Requirement already satisfied: distro<2,>=1.7.0 in /usr/local/lib/python3.11/dist-packages (from groq<1,>=0.4.1->langchain_groq) (1.9.0)\n",
            "Requirement already satisfied: httpx<1,>=0.23.0 in /usr/local/lib/python3.11/dist-packages (from groq<1,>=0.4.1->langchain_groq) (0.28.1)\n",
            "Requirement already satisfied: sniffio in /usr/local/lib/python3.11/dist-packages (from groq<1,>=0.4.1->langchain_groq) (1.3.1)\n",
            "Requirement already satisfied: typing-extensions<5,>=4.10 in /usr/local/lib/python3.11/dist-packages (from groq<1,>=0.4.1->langchain_groq) (4.12.2)\n",
            "Requirement already satisfied: jsonpatch<2.0,>=1.33 in /usr/local/lib/python3.11/dist-packages (from langchain-core!=0.3.0,!=0.3.1,!=0.3.10,!=0.3.11,!=0.3.12,!=0.3.13,!=0.3.14,!=0.3.15,!=0.3.16,!=0.3.17,!=0.3.18,!=0.3.19,!=0.3.2,!=0.3.20,!=0.3.21,!=0.3.22,!=0.3.3,!=0.3.4,!=0.3.5,!=0.3.6,!=0.3.7,!=0.3.8,!=0.3.9,<0.4.0,>=0.2.43->langgraph) (1.33)\n",
            "Requirement already satisfied: packaging<25,>=23.2 in /usr/local/lib/python3.11/dist-packages (from langchain-core!=0.3.0,!=0.3.1,!=0.3.10,!=0.3.11,!=0.3.12,!=0.3.13,!=0.3.14,!=0.3.15,!=0.3.16,!=0.3.17,!=0.3.18,!=0.3.19,!=0.3.2,!=0.3.20,!=0.3.21,!=0.3.22,!=0.3.3,!=0.3.4,!=0.3.5,!=0.3.6,!=0.3.7,!=0.3.8,!=0.3.9,<0.4.0,>=0.2.43->langgraph) (24.2)\n",
            "Requirement already satisfied: msgpack<2.0.0,>=1.1.0 in /usr/local/lib/python3.11/dist-packages (from langgraph-checkpoint<3.0.0,>=2.0.10->langgraph) (1.1.0)\n",
            "Requirement already satisfied: orjson>=3.10.1 in /usr/local/lib/python3.11/dist-packages (from langgraph-sdk<0.2.0,>=0.1.42->langgraph) (3.10.15)\n",
            "Requirement already satisfied: requests-toolbelt<2.0.0,>=1.0.0 in /usr/local/lib/python3.11/dist-packages (from langsmith<0.4,>=0.1.125->langchain_community) (1.0.0)\n",
            "Requirement already satisfied: zstandard<0.24.0,>=0.23.0 in /usr/local/lib/python3.11/dist-packages (from langsmith<0.4,>=0.1.125->langchain_community) (0.23.0)\n",
            "Requirement already satisfied: annotated-types>=0.6.0 in /usr/local/lib/python3.11/dist-packages (from pydantic<3.0.0,>=2.7.4->langchain) (0.7.0)\n",
            "Requirement already satisfied: pydantic-core==2.27.2 in /usr/local/lib/python3.11/dist-packages (from pydantic<3.0.0,>=2.7.4->langchain) (2.27.2)\n",
            "Requirement already satisfied: python-dotenv>=0.21.0 in /usr/local/lib/python3.11/dist-packages (from pydantic-settings<3.0.0,>=2.4.0->langchain_community) (1.0.1)\n",
            "Requirement already satisfied: charset-normalizer<4,>=2 in /usr/local/lib/python3.11/dist-packages (from requests<3,>=2->langchain_community) (3.4.1)\n",
            "Requirement already satisfied: idna<4,>=2.5 in /usr/local/lib/python3.11/dist-packages (from requests<3,>=2->langchain_community) (3.10)\n",
            "Requirement already satisfied: urllib3<3,>=1.21.1 in /usr/local/lib/python3.11/dist-packages (from requests<3,>=2->langchain_community) (2.3.0)\n",
            "Requirement already satisfied: certifi>=2017.4.17 in /usr/local/lib/python3.11/dist-packages (from requests<3,>=2->langchain_community) (2025.1.31)\n",
            "Requirement already satisfied: greenlet!=0.4.17 in /usr/local/lib/python3.11/dist-packages (from SQLAlchemy<3,>=1.4->langchain_community) (3.1.1)\n",
            "Requirement already satisfied: httpcore==1.* in /usr/local/lib/python3.11/dist-packages (from httpx<1,>=0.23.0->groq<1,>=0.4.1->langchain_groq) (1.0.7)\n",
            "Requirement already satisfied: h11<0.15,>=0.13 in /usr/local/lib/python3.11/dist-packages (from httpcore==1.*->httpx<1,>=0.23.0->groq<1,>=0.4.1->langchain_groq) (0.14.0)\n",
            "Requirement already satisfied: jsonpointer>=1.9 in /usr/local/lib/python3.11/dist-packages (from jsonpatch<2.0,>=1.33->langchain-core!=0.3.0,!=0.3.1,!=0.3.10,!=0.3.11,!=0.3.12,!=0.3.13,!=0.3.14,!=0.3.15,!=0.3.16,!=0.3.17,!=0.3.18,!=0.3.19,!=0.3.2,!=0.3.20,!=0.3.21,!=0.3.22,!=0.3.3,!=0.3.4,!=0.3.5,!=0.3.6,!=0.3.7,!=0.3.8,!=0.3.9,<0.4.0,>=0.2.43->langgraph) (3.0.0)\n",
            "Requirement already satisfied: mypy-extensions>=0.3.0 in /usr/local/lib/python3.11/dist-packages (from typing-inspect<1,>=0.4.0->dataclasses-json<0.7,>=0.5.7->langchain_community) (1.0.0)\n"
          ]
        }
      ],
      "source": [
        "!pip install langgraph langchain_community langchain langchain_groq"
      ]
    },
    {
      "cell_type": "code",
      "source": [
        "from langchain_groq import ChatGroq\n",
        "from langgraph.graph import StateGraph,END, START\n",
        "from langchain_core.messages import HumanMessage, AIMessage\n",
        "from langchain_core.prompts import ChatPromptTemplate\n",
        "from typing import TypedDict, Annotated, List"
      ],
      "metadata": {
        "id": "Bmu76-O1NKZI"
      },
      "execution_count": null,
      "outputs": []
    },
    {
      "cell_type": "code",
      "source": [
        "llm=ChatGroq(\n",
        "    temperature=0,\n",
        "    groq_api_key=\"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\",\n",
        "    model_name=\"llama-3.3-70b-versatile\"\n",
        ")"
      ],
      "metadata": {
        "id": "w-8zdl6WN43U"
      },
      "execution_count": null,
      "outputs": []
    },
    {
      "cell_type": "code",
      "source": [
        "class Medical(TypedDict):\n",
        "  messages: Annotated[List[AIMessage|HumanMessage], \"The following messages:\"]\n",
        "  symptoms_given:str\n",
        "  disease: str\n",
        "  next_step:str"
      ],
      "metadata": {
        "id": "PZwmFek3OVpz"
      },
      "execution_count": null,
      "outputs": []
    },
    {
      "cell_type": "code",
      "source": [
        "def symptoms(state:Medical)-> Medical:\n",
        "  print(\"Processing the symptoms:\")\n",
        "  symptom_prompt=ChatPromptTemplate.from_messages([\n",
        "      \"System\",\"Find the keywords from user input of symptoms and summarize it \",\n",
        "      \"Human\",\"{symptoms}\"\n",
        "  ])\n",
        "  response= llm.invoke(symptom_prompt.format_messages(symptoms=state[\"symptoms_given\"]))\n",
        "  return{\n",
        "      **state,\n",
        "      \"messages\": state[\"messages\"]+ [AIMessage(content=response.content)],\n",
        "      \"symptoms\": response.content\n",
        "  }\n",
        "def disease_detected(state:Medical)-> Medical:\n",
        "  print(\"detecting the disease:\")\n",
        "  disease_prompt=ChatPromptTemplate.from_messages([\n",
        "      \"System\",\"detect the possible diseases from the symptoms \",\n",
        "      \"Human\",\"Symptoms: {symptoms}\"\n",
        "  ])\n",
        "  response= llm.invoke(disease_prompt.format_messages(symptoms=state[\"symptoms_given\"]))\n",
        "  return{\n",
        "      **state,\n",
        "      \"messages\": state[\"messages\"]+ [AIMessage(content=response.content)],\n",
        "      \"disease_detected\": response.content\n",
        "  }\n",
        "def treatment(state:Medical)-> Medical:\n",
        "  print(\"providing the treatment methods and next steps:\")\n",
        "  treatment_prompt=ChatPromptTemplate.from_messages([\n",
        "      \"System\",\"Based on the symptoms and disease detected, provide medical solutions and next steps(e.g, rest, blood test, ultrasonography etc) \",\n",
        "      \"Human\",\"Symptoms: {symptoms}\\nDisease_detected: {disease_detected}\"\n",
        "  ])\n",
        "  response= llm.invoke(treatment_prompt.format_messages(\n",
        "        symptoms=state[\"symptoms_given\"],\n",
        "        disease_detected=state[\"disease\"]\n",
        "\n",
        "  ))\n",
        "  return{\n",
        "      **state,\n",
        "      \"messages\": state[\"messages\"]+ [AIMessage(content=response.content)],\n",
        "      \"medical_advice\": response.content\n",
        "  }\n",
        "\n",
        "\n"
      ],
      "metadata": {
        "id": "9y1ZSdVMPNVC"
      },
      "execution_count": null,
      "outputs": []
    },
    {
      "cell_type": "code",
      "source": [
        "graph= StateGraph(Medical)\n",
        "graph.add_node(\"symptoms\", symptoms)\n",
        "graph.add_node(\"disease_detected\", disease_detected)\n",
        "graph.add_node(\"treatment\", treatment)\n",
        "\n",
        "graph.add_edge(START, \"symptoms\")\n",
        "graph.add_edge(\"symptoms\", \"disease_detected\")\n",
        "graph.add_edge(\"disease_detected\", \"treatment\")\n",
        "graph.add_edge(\"treatment\", END)\n",
        "\n",
        "result=graph.compile()\n",
        "result"
      ],
      "metadata": {
        "colab": {
          "base_uri": "https://localhost:8080/",
          "height": 449
        },
        "id": "74E-66mMT1rr",
        "outputId": "607795c3-05c0-46f6-e883-568523a8bd50"
      },
      "execution_count": null,
      "outputs": [
        {
          "output_type": "execute_result",
          "data": {
            "text/plain": [
              "<langgraph.graph.state.CompiledStateGraph object at 0x7aef1ec37d90>"
            ],
            "image/png": "[encoded data removed]"
          },
          "metadata": {},
          "execution_count": 6
        }
      ]
    },
    {
      "cell_type": "code",
      "source": [
        "def medical_chatbot():\n",
        "  user_input= input(\"Enter your symptoms:\")\n",
        "  state={\"messages\":[], \"symptoms_given\": user_input, \"disease\":\"\", \"next_step\":\"\"}\n",
        "  state=symptoms(state)\n",
        "  state=disease_detected(state)\n",
        "  state=treatment(state)\n",
        "\n",
        "  print(\"\\n DISEASE DETECTED: \")\n",
        "  print(state[\"disease_detected\"])\n",
        "  print(\"\\n MEDICAL ADVICE: \")\n",
        "  print(state[\"medical_advice\"])\n",
        "\n",
        "if __name__==\"__main__\":\n",
        "  medical_chatbot()\n"
      ],
      "metadata": {
        "colab": {
          "base_uri": "https://localhost:8080/"
        },
        "id": "dgo8xpqqU0PC",
        "outputId": "127576e3-fe7f-4d1f-b801-b2eb4ace4779"
      },
      "execution_count": null,
      "outputs": [
        {
          "output_type": "stream",
          "name": "stdout",
          "text": [
            "Enter your symptoms:fever, nose bleeding, loss of appetite,vomit\n",
            "Processing the symptoms:\n",
            "detecting the disease:\n",
            "providing the treatment methods and next steps:\n",
            "\n",
            " DISEASE DETECTED: \n",
            "Based on the symptoms you've provided - fever, nose bleeding, loss of appetite, and vomiting - there are several possible diseases or conditions that could be the cause. It's important to note that a definitive diagnosis requires a medical professional's evaluation, including a physical examination, medical history, and possibly diagnostic tests. That said, here are some potential conditions:\n",
            "\n",
            "1. **Influenza (Flu)**: While not typically associated with nose bleeding, severe cases of the flu can lead to complications that might include bleeding. The fever, loss of appetite, and vomiting are more common symptoms.\n",
            "\n",
            "2. **Meningitis**: This is an infection of the protective membranes covering the brain and spinal cord, known as the meninges. Symptoms can include fever, headache, vomiting, and in severe cases, bleeding, including nosebleeds, due to increased intracranial pressure.\n",
            "\n",
            "3. **Leptospirosis**: A bacterial infection caused by Leptospira bacteria. Symptoms can include fever, headache, muscle aches, vomiting, and sometimes more severe symptoms like bleeding, which could include nosebleeds.\n",
            "\n",
            "4. **Dengue Fever**: A mosquito-borne viral illness common in tropical and subtropical climates. Symptoms include high fever, severe headache, pain behind the eyes, joint and muscle pain, rash, and mild bleeding (e.g., nosebleeds, bleeding gums).\n",
            "\n",
            "5. **Typhoid Fever**: Caused by Salmonella Typhi bacteria, symptoms can include prolonged fever, headache, nausea, loss of appetite, and sometimes abdominal pain. In severe cases, it can lead to intestinal perforation and bleeding, though nosebleeds are less common.\n",
            "\n",
            "6. **Hemorrhagic Fever Viruses (e.g., Ebola, Lassa Fever)**: These are a group of viruses that can cause severe, life-threatening disease. Symptoms include fever, fatigue, muscle pain, and in severe cases, bleeding, which can manifest as nosebleeds among other symptoms.\n",
            "\n",
            "7. **Thrombocytopenia or Platelet Disorders**: Conditions that affect the blood's ability to clot, leading to easy bruising and bleeding, including nosebleeds. Fever and loss of appetite can be associated with underlying infections or conditions that also cause thrombocytopenia.\n",
            "\n",
            "8. **Cancer (e.g., Leukemia)**: In rare cases, cancers affecting the blood or bone marrow can lead to symptoms like fever, loss of appetite, and bleeding due to low platelet counts.\n",
            "\n",
            "9. **Viral Hemorrhagic Fevers (VHFs)**: A group of viruses that can cause severe, life-threatening disease. Symptoms include fever, fatigue, and in severe cases, bleeding, which can include nosebleeds.\n",
            "\n",
            "It's crucial to seek medical attention immediately if you or someone else is experiencing these symptoms, especially if they are severe or worsening over time. A healthcare professional can provide a proper diagnosis and appropriate treatment.\n",
            "\n",
            " MEDICAL ADVICE: \n",
            "Based on the symptoms you've provided (fever, nose bleeding, loss of appetite, and vomiting), it's challenging to pinpoint a specific disease without further diagnostic tests. However, these symptoms can be associated with several conditions, ranging from infections to more severe diseases. Here are some potential diseases and the next steps for diagnosis and treatment:\n",
            "\n",
            "1. **Infections (Viral or Bacterial):** These could range from common viral infections like the flu to more serious bacterial infections.\n",
            "2. **Meningitis:** Although less common, the combination of fever, vomiting, and in some cases, nose bleeding (due to increased intracranial pressure), could suggest meningitis, which is an infection of the protective membranes covering the brain and spinal cord.\n",
            "3. **Leptospirosis:** This bacterial infection can cause fever, vomiting, and in severe cases, hemorrhaging, which might include nose bleeding.\n",
            "4. **Dengue Fever:** Characterized by high fever, vomiting, and sometimes bleeding manifestations like nose bleeding.\n",
            "5. **Other Conditions:** Such as cancer, autoimmune diseases, or bleeding disorders, though these would typically have additional symptoms.\n",
            "\n",
            "**Next Steps:**\n",
            "\n",
            "1. **Immediate Medical Attention:** Given the severity of symptoms like nose bleeding and vomiting, it's crucial to seek medical help immediately.\n",
            "2. **Blood Tests:** To check for signs of infection, inflammation, and to rule out other conditions like leukemia or autoimmune diseases.\n",
            "3. **Complete Blood Count (CBC):** To assess the overall health of the blood, including signs of infection or bleeding disorders.\n",
            "4. **Biochemical Tests:** To evaluate liver and kidney function, which can be affected by various diseases.\n",
            "5. **Imaging Tests:** Such as a CT scan or MRI if there's suspicion of a neurological cause or to assess for any internal bleeding.\n",
            "6. **Ultrasonography:** Might be used to evaluate abdominal organs if there's suspicion of an infection or issue related to these areas.\n",
            "7. **Rest and Hydration:** While awaiting diagnosis, it's essential to stay hydrated and rest to help the body recover from the current state.\n",
            "8. **Medication:** Depending on the diagnosis, medication might be prescribed to manage fever, prevent dehydration, or treat the underlying cause.\n",
            "\n",
            "**Important Note:** The information provided is for general guidance and not a substitute for professional medical advice. Given the severity of the symptoms, it's crucial to consult a healthcare professional for an accurate diagnosis and appropriate treatment plan.\n"
          ]
        }
      ]
    },
    {
      "cell_type": "code",
      "source": [
        "!pip install gradio"
      ],
      "metadata": {
        "colab": {
          "base_uri": "https://localhost:8080/"
        },
        "id": "hxyger6ka4VR",
        "outputId": "543e4a0f-a9b0-4ecb-ac93-753f1dba1655"
      },
      "execution_count": null,
      "outputs": [
        {
          "output_type": "stream",
          "name": "stdout",
          "text": [
            "Requirement already satisfied: gradio in /usr/local/lib/python3.11/dist-packages (5.15.0)\n",
            "Requirement already satisfied: aiofiles<24.0,>=22.0 in /usr/local/lib/python3.11/dist-packages (from gradio) (23.2.1)\n",
            "Requirement already satisfied: anyio<5.0,>=3.0 in /usr/local/lib/python3.11/dist-packages (from gradio) (3.7.1)\n",
            "Requirement already satisfied: fastapi<1.0,>=0.115.2 in /usr/local/lib/python3.11/dist-packages (from gradio) (0.115.8)\n",
            "Requirement already satisfied: ffmpy in /usr/local/lib/python3.11/dist-packages (from gradio) (0.5.0)\n",
            "Requirement already satisfied: gradio-client==1.7.0 in /usr/local/lib/python3.11/dist-packages (from gradio) (1.7.0)\n",
            "Requirement already satisfied: httpx>=0.24.1 in /usr/local/lib/python3.11/dist-packages (from gradio) (0.28.1)\n",
            "Requirement already satisfied: huggingface-hub>=0.28.1 in /usr/local/lib/python3.11/dist-packages (from gradio) (0.28.1)\n",
            "Requirement already satisfied: jinja2<4.0 in /usr/local/lib/python3.11/dist-packages (from gradio) (3.1.5)\n",
            "Requirement already satisfied: markupsafe~=2.0 in /usr/local/lib/python3.11/dist-packages (from gradio) (2.1.5)\n",
            "Requirement already satisfied: numpy<3.0,>=1.0 in /usr/local/lib/python3.11/dist-packages (from gradio) (1.26.4)\n",
            "Requirement already satisfied: orjson~=3.0 in /usr/local/lib/python3.11/dist-packages (from gradio) (3.10.15)\n",
            "Requirement already satisfied: packaging in /usr/local/lib/python3.11/dist-packages (from gradio) (24.2)\n",
            "Requirement already satisfied: pandas<3.0,>=1.0 in /usr/local/lib/python3.11/dist-packages (from gradio) (2.2.2)\n",
            "Requirement already satisfied: pillow<12.0,>=8.0 in /usr/local/lib/python3.11/dist-packages (from gradio) (11.1.0)\n",
            "Requirement already satisfied: pydantic>=2.0 in /usr/local/lib/python3.11/dist-packages (from gradio) (2.10.6)\n",
            "Requirement already satisfied: pydub in /usr/local/lib/python3.11/dist-packages (from gradio) (0.25.1)\n",
            "Requirement already satisfied: python-multipart>=0.0.18 in /usr/local/lib/python3.11/dist-packages (from gradio) (0.0.20)\n",
            "Requirement already satisfied: pyyaml<7.0,>=5.0 in /usr/local/lib/python3.11/dist-packages (from gradio) (6.0.2)\n",
            "Requirement already satisfied: ruff>=0.9.3 in /usr/local/lib/python3.11/dist-packages (from gradio) (0.9.5)\n",
            "Requirement already satisfied: safehttpx<0.2.0,>=0.1.6 in /usr/local/lib/python3.11/dist-packages (from gradio) (0.1.6)\n",
            "Requirement already satisfied: semantic-version~=2.0 in /usr/local/lib/python3.11/dist-packages (from gradio) (2.10.0)\n",
            "Requirement already satisfied: starlette<1.0,>=0.40.0 in /usr/local/lib/python3.11/dist-packages (from gradio) (0.45.3)\n",
            "Requirement already satisfied: tomlkit<0.14.0,>=0.12.0 in /usr/local/lib/python3.11/dist-packages (from gradio) (0.13.2)\n",
            "Requirement already satisfied: typer<1.0,>=0.12 in /usr/local/lib/python3.11/dist-packages (from gradio) (0.15.1)\n",
            "Requirement already satisfied: typing-extensions~=4.0 in /usr/local/lib/python3.11/dist-packages (from gradio) (4.12.2)\n",
            "Requirement already satisfied: uvicorn>=0.14.0 in /usr/local/lib/python3.11/dist-packages (from gradio) (0.34.0)\n",
            "Requirement already satisfied: fsspec in /usr/local/lib/python3.11/dist-packages (from gradio-client==1.7.0->gradio) (2024.10.0)\n",
            "Requirement already satisfied: websockets<15.0,>=10.0 in /usr/local/lib/python3.11/dist-packages (from gradio-client==1.7.0->gradio) (14.2)\n",
            "Requirement already satisfied: idna>=2.8 in /usr/local/lib/python3.11/dist-packages (from anyio<5.0,>=3.0->gradio) (3.10)\n",
            "Requirement already satisfied: sniffio>=1.1 in /usr/local/lib/python3.11/dist-packages (from anyio<5.0,>=3.0->gradio) (1.3.1)\n",
            "Requirement already satisfied: certifi in /usr/local/lib/python3.11/dist-packages (from httpx>=0.24.1->gradio) (2025.1.31)\n",
            "Requirement already satisfied: httpcore==1.* in /usr/local/lib/python3.11/dist-packages (from httpx>=0.24.1->gradio) (1.0.7)\n",
            "Requirement already satisfied: h11<0.15,>=0.13 in /usr/local/lib/python3.11/dist-packages (from httpcore==1.*->httpx>=0.24.1->gradio) (0.14.0)\n",
            "Requirement already satisfied: filelock in /usr/local/lib/python3.11/dist-packages (from huggingface-hub>=0.28.1->gradio) (3.17.0)\n",
            "Requirement already satisfied: requests in /usr/local/lib/python3.11/dist-packages (from huggingface-hub>=0.28.1->gradio) (2.32.3)\n",
            "Requirement already satisfied: tqdm>=4.42.1 in /usr/local/lib/python3.11/dist-packages (from huggingface-hub>=0.28.1->gradio) (4.67.1)\n",
            "Requirement already satisfied: python-dateutil>=2.8.2 in /usr/local/lib/python3.11/dist-packages (from pandas<3.0,>=1.0->gradio) (2.8.2)\n",
            "Requirement already satisfied: pytz>=2020.1 in /usr/local/lib/python3.11/dist-packages (from pandas<3.0,>=1.0->gradio) (2025.1)\n",
            "Requirement already satisfied: tzdata>=2022.7 in /usr/local/lib/python3.11/dist-packages (from pandas<3.0,>=1.0->gradio) (2025.1)\n",
            "Requirement already satisfied: annotated-types>=0.6.0 in /usr/local/lib/python3.11/dist-packages (from pydantic>=2.0->gradio) (0.7.0)\n",
            "Requirement already satisfied: pydantic-core==2.27.2 in /usr/local/lib/python3.11/dist-packages (from pydantic>=2.0->gradio) (2.27.2)\n",
            "Requirement already satisfied: click>=8.0.0 in /usr/local/lib/python3.11/dist-packages (from typer<1.0,>=0.12->gradio) (8.1.8)\n",
            "Requirement already satisfied: shellingham>=1.3.0 in /usr/local/lib/python3.11/dist-packages (from typer<1.0,>=0.12->gradio) (1.5.4)\n",
            "Requirement already satisfied: rich>=10.11.0 in /usr/local/lib/python3.11/dist-packages (from typer<1.0,>=0.12->gradio) (13.9.4)\n",
            "Requirement already satisfied: six>=1.5 in /usr/local/lib/python3.11/dist-packages (from python-dateutil>=2.8.2->pandas<3.0,>=1.0->gradio) (1.17.0)\n",
            "Requirement already satisfied: markdown-it-py>=2.2.0 in /usr/local/lib/python3.11/dist-packages (from rich>=10.11.0->typer<1.0,>=0.12->gradio) (3.0.0)\n",
            "Requirement already satisfied: pygments<3.0.0,>=2.13.0 in /usr/local/lib/python3.11/dist-packages (from rich>=10.11.0->typer<1.0,>=0.12->gradio) (2.18.0)\n",
            "Requirement already satisfied: charset-normalizer<4,>=2 in /usr/local/lib/python3.11/dist-packages (from requests->huggingface-hub>=0.28.1->gradio) (3.4.1)\n",
            "Requirement already satisfied: urllib3<3,>=1.21.1 in /usr/local/lib/python3.11/dist-packages (from requests->huggingface-hub>=0.28.1->gradio) (2.3.0)\n",
            "Requirement already satisfied: mdurl~=0.1 in /usr/local/lib/python3.11/dist-packages (from markdown-it-py>=2.2.0->rich>=10.11.0->typer<1.0,>=0.12->gradio) (0.1.2)\n"
          ]
        }
      ]
    },
    {
      "cell_type": "code",
      "source": [
        "import gradio as gr\n",
        "\n",
        "def medical_chatbot_interface(input):\n",
        "\n",
        "\n",
        "  state={\"messages\":[], \"symptoms_given\": input, \"disease\":\"\", \"next_step\":\"\"}\n",
        "  state=symptoms(state)\n",
        "  state=disease_detected(state)\n",
        "  state=treatment(state)\n",
        "\n",
        "  return f\"**DISEASE DETECTED:**\\n{state['disease_detected']}\\n\\n**MEDICAL ADVICE:**\\n{state['medical_advice']}\"\n",
        "\n",
        "interface = gr.Interface(\n",
        "    fn=medical_chatbot_interface,\n",
        "    inputs=gr.Textbox(label=\"Describe your symptoms\"),\n",
        "    outputs=gr.Textbox(label=\"Medical Advice & Next Steps\"),\n",
        "    title=\"Medical AI Chatbot\",\n",
        "    description=\"Enter your symptoms to receive general medical advice and suggested next steps.\"\n",
        ")\n",
        "\n",
        "if __name__ == \"__main__\":\n",
        "    interface.launch()\n"
      ],
      "metadata": {
        "colab": {
          "base_uri": "https://localhost:8080/",
          "height": 645
        },
        "id": "u2Uq7O6ca2No",
        "outputId": "13badcc5-3080-45c8-b4b8-06bb4ccc7a1d"
      },
      "execution_count": null,
      "outputs": [
        {
          "output_type": "stream",
          "name": "stdout",
          "text": [
            "Running Gradio in a Colab notebook requires sharing enabled. Automatically setting `share=True` (you can turn this off by setting `share=False` in `launch()` explicitly).\n",
            "\n",
            "Colab notebook detected. To show errors in colab notebook, set debug=True in launch()\n",
            "* Running on public URL: https://0d35f36541a48760a8.gradio.live\n",
            "\n",
            "This share link expires in 72 hours. For free permanent hosting and GPU upgrades, run `gradio deploy` from the terminal in the working directory to deploy to Hugging Face Spaces (https://huggingface.co/spaces)\n"
          ]
        },
        {
          "output_type": "display_data",
          "data": {
            "text/plain": [
              "<IPython.core.display.HTML object>"
            ],
            "text/html": [
              "<div><iframe src=\"https://0d35f36541a48760a8.gradio.live\" width=\"100%\" height=\"500\" allow=\"autoplay; camera; microphone; clipboard-read; clipboard-write;\" frameborder=\"0\" allowfullscreen></iframe></div>"
            ]
          },
          "metadata": {}
        }
      ]
    }
  ]
}